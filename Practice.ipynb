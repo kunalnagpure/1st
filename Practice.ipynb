{
 "cells": [
  {
   "cell_type": "code",
   "execution_count": 1,
   "id": "30846b7b",
   "metadata": {},
   "outputs": [
    {
     "name": "stdout",
     "output_type": "stream",
     "text": [
      "10\n"
     ]
    }
   ],
   "source": [
    "if __name__ == '__main__':\n",
    "    n = int(input().strip())"
   ]
  },
  {
   "cell_type": "code",
   "execution_count": 2,
   "id": "af364e03",
   "metadata": {},
   "outputs": [
    {
     "name": "stdout",
     "output_type": "stream",
     "text": [
      "10\n"
     ]
    }
   ],
   "source": [
    "n = int(input().strip())"
   ]
  },
  {
   "cell_type": "code",
   "execution_count": 27,
   "id": "acbcd4a8",
   "metadata": {},
   "outputs": [
    {
     "name": "stdout",
     "output_type": "stream",
     "text": [
      "10\n",
      "Weird\n"
     ]
    }
   ],
   "source": [
    "n = int(input())\n",
    "if n%2 == 1:\n",
    "    print(\"Weird\")\n",
    "elif n in range(2,6):\n",
    "    print(\"Not Weird\")\n",
    "elif n in range(6,21):\n",
    "    print(\"Weird\")\n",
    "else:\n",
    "    print(\"Not Weird\")\n",
    "        "
   ]
  },
  {
   "cell_type": "code",
   "execution_count": 31,
   "id": "50ab2599",
   "metadata": {},
   "outputs": [
    {
     "name": "stdout",
     "output_type": "stream",
     "text": [
      "a = 4\n",
      "b = 3\n",
      "1\n",
      "1.3333333333333333\n"
     ]
    }
   ],
   "source": [
    "a = int(input(\"\"))\n",
    "b = int(input(\"\"))\n",
    "c = a//b\n",
    "print(c)\n",
    "d = a/b\n",
    "print(d)"
   ]
  },
  {
   "cell_type": "code",
   "execution_count": 33,
   "id": "7b740677",
   "metadata": {},
   "outputs": [
    {
     "name": "stdout",
     "output_type": "stream",
     "text": [
      "3\n",
      "0\n",
      "1\n",
      "4\n"
     ]
    }
   ],
   "source": [
    "n = int(input())\n",
    "for i in range(0,n):\n",
    "    i = i*i\n",
    "    print(i)\n",
    "    "
   ]
  },
  {
   "cell_type": "code",
   "execution_count": 34,
   "id": "9bd58d34",
   "metadata": {},
   "outputs": [
    {
     "name": "stdout",
     "output_type": "stream",
     "text": [
      "4\n",
      "None\n"
     ]
    }
   ],
   "source": [
    "def is_leap(year):\n",
    "    leap = False\n",
    "    \n",
    "    if year//4 == 0 and year//100 ==0:\n",
    "        return leap\n",
    "\n",
    "year = int(input())\n",
    "print(is_leap(year))"
   ]
  },
  {
   "cell_type": "code",
   "execution_count": 57,
   "id": "ab9bc3f9",
   "metadata": {},
   "outputs": [
    {
     "name": "stdout",
     "output_type": "stream",
     "text": [
      "100\n"
     ]
    },
    {
     "ename": "UnboundLocalError",
     "evalue": "local variable 'leap' referenced before assignment",
     "output_type": "error",
     "traceback": [
      "\u001b[1;31m---------------------------------------------------------------------------\u001b[0m",
      "\u001b[1;31mUnboundLocalError\u001b[0m                         Traceback (most recent call last)",
      "\u001b[1;32m~\\AppData\\Local\\Temp/ipykernel_5456/2943119836.py\u001b[0m in \u001b[0;36m<module>\u001b[1;34m\u001b[0m\n\u001b[0;32m     12\u001b[0m \u001b[1;33m\u001b[0m\u001b[0m\n\u001b[0;32m     13\u001b[0m \u001b[0myear\u001b[0m \u001b[1;33m=\u001b[0m \u001b[0mint\u001b[0m\u001b[1;33m(\u001b[0m\u001b[0minput\u001b[0m\u001b[1;33m(\u001b[0m\u001b[1;33m)\u001b[0m\u001b[1;33m)\u001b[0m\u001b[1;33m\u001b[0m\u001b[1;33m\u001b[0m\u001b[0m\n\u001b[1;32m---> 14\u001b[1;33m \u001b[0mprint\u001b[0m\u001b[1;33m(\u001b[0m\u001b[0mis_leap\u001b[0m\u001b[1;33m(\u001b[0m\u001b[0myear\u001b[0m\u001b[1;33m)\u001b[0m\u001b[1;33m)\u001b[0m\u001b[1;33m\u001b[0m\u001b[1;33m\u001b[0m\u001b[0m\n\u001b[0m",
      "\u001b[1;32m~\\AppData\\Local\\Temp/ipykernel_5456/2943119836.py\u001b[0m in \u001b[0;36mis_leap\u001b[1;34m(year)\u001b[0m\n\u001b[0;32m      9\u001b[0m             \u001b[0mleap\u001b[0m \u001b[1;33m=\u001b[0m \u001b[1;32mTrue\u001b[0m\u001b[1;33m\u001b[0m\u001b[1;33m\u001b[0m\u001b[0m\n\u001b[0;32m     10\u001b[0m \u001b[1;33m\u001b[0m\u001b[0m\n\u001b[1;32m---> 11\u001b[1;33m     \u001b[1;32mreturn\u001b[0m \u001b[0mleap\u001b[0m\u001b[1;33m\u001b[0m\u001b[1;33m\u001b[0m\u001b[0m\n\u001b[0m\u001b[0;32m     12\u001b[0m \u001b[1;33m\u001b[0m\u001b[0m\n\u001b[0;32m     13\u001b[0m \u001b[0myear\u001b[0m \u001b[1;33m=\u001b[0m \u001b[0mint\u001b[0m\u001b[1;33m(\u001b[0m\u001b[0minput\u001b[0m\u001b[1;33m(\u001b[0m\u001b[1;33m)\u001b[0m\u001b[1;33m)\u001b[0m\u001b[1;33m\u001b[0m\u001b[1;33m\u001b[0m\u001b[0m\n",
      "\u001b[1;31mUnboundLocalError\u001b[0m: local variable 'leap' referenced before assignment"
     ]
    }
   ],
   "source": [
    "def is_leap(year):\n",
    "    if 1900<=year and year<=100000:\n",
    "        leap = False\n",
    "        if year % 400 == 0:\n",
    "            leap = True\n",
    "        elif year % 100 == 0:\n",
    "            leap = False\n",
    "        elif year % 4 == 0:\n",
    "            leap = True\n",
    "    \n",
    "    return leap\n",
    "\n",
    "year = int(input())\n",
    "print(is_leap(year))"
   ]
  },
  {
   "cell_type": "code",
   "execution_count": 53,
   "id": "82b447e7",
   "metadata": {},
   "outputs": [
    {
     "name": "stdout",
     "output_type": "stream",
     "text": [
      "2004\n",
      "False\n",
      "None\n"
     ]
    }
   ],
   "source": [
    "leap = int(input())\n",
    "\n",
    "def is_leap(year):\n",
    "    leap = False\n",
    "    if leap // 4 == 0 and leap // 400 == 0:\n",
    "        print(leap) \n",
    "    elif leap//4 == 0 and leap//100 == 0:\n",
    "        print(leap)\n",
    "    else:\n",
    "        print(leap)\n",
    "        \n",
    "print(is_leap(year))\n"
   ]
  },
  {
   "cell_type": "code",
   "execution_count": 65,
   "id": "64ed7f21",
   "metadata": {
    "scrolled": true
   },
   "outputs": [
    {
     "ename": "IndentationError",
     "evalue": "expected an indented block (Temp/ipykernel_5456/599667745.py, line 3)",
     "output_type": "error",
     "traceback": [
      "\u001b[1;36m  File \u001b[1;32m\"E:\\Users\\King\\AppData\\Local\\Temp/ipykernel_5456/599667745.py\"\u001b[1;36m, line \u001b[1;32m3\u001b[0m\n\u001b[1;33m    print(i)\u001b[0m\n\u001b[1;37m    ^\u001b[0m\n\u001b[1;31mIndentationError\u001b[0m\u001b[1;31m:\u001b[0m expected an indented block\n"
     ]
    }
   ],
   "source": [
    "n = int(input())\n",
    "n = 0\n",
    "for i in range(1,n+1):\n",
    "print(i)"
   ]
  },
  {
   "cell_type": "code",
   "execution_count": 1,
   "id": "36bba707",
   "metadata": {},
   "outputs": [
    {
     "name": "stdout",
     "output_type": "stream",
     "text": [
      "4\n"
     ]
    }
   ],
   "source": [
    "print(True+True+True+False+True)"
   ]
  },
  {
   "cell_type": "code",
   "execution_count": 2,
   "id": "c0642dec",
   "metadata": {},
   "outputs": [
    {
     "name": "stdout",
     "output_type": "stream",
     "text": [
      "0\n"
     ]
    }
   ],
   "source": [
    "print(False-True+True)"
   ]
  },
  {
   "cell_type": "code",
   "execution_count": 3,
   "id": "86f3b4a9",
   "metadata": {},
   "outputs": [
    {
     "ename": "ZeroDivisionError",
     "evalue": "division by zero",
     "output_type": "error",
     "traceback": [
      "\u001b[1;31m---------------------------------------------------------------------------\u001b[0m",
      "\u001b[1;31mZeroDivisionError\u001b[0m                         Traceback (most recent call last)",
      "\u001b[1;32m~\\AppData\\Local\\Temp/ipykernel_2044/54039475.py\u001b[0m in \u001b[0;36m<module>\u001b[1;34m\u001b[0m\n\u001b[1;32m----> 1\u001b[1;33m \u001b[1;32mTrue\u001b[0m \u001b[1;33m/\u001b[0m \u001b[1;32mFalse\u001b[0m\u001b[1;33m\u001b[0m\u001b[1;33m\u001b[0m\u001b[0m\n\u001b[0m",
      "\u001b[1;31mZeroDivisionError\u001b[0m: division by zero"
     ]
    }
   ],
   "source": [
    "True / False\n"
   ]
  },
  {
   "cell_type": "code",
   "execution_count": 9,
   "id": "a112765c",
   "metadata": {},
   "outputs": [
    {
     "data": {
      "text/plain": [
       "'1kun'"
      ]
     },
     "execution_count": 9,
     "metadata": {},
     "output_type": "execute_result"
    }
   ],
   "source": [
    "'1' + \"kun\""
   ]
  },
  {
   "cell_type": "code",
   "execution_count": 10,
   "id": "c3690aa6",
   "metadata": {},
   "outputs": [
    {
     "data": {
      "text/plain": [
       "'kunkunkun'"
      ]
     },
     "execution_count": 10,
     "metadata": {},
     "output_type": "execute_result"
    }
   ],
   "source": [
    "3*\"kun\""
   ]
  },
  {
   "cell_type": "code",
   "execution_count": 15,
   "id": "54aa3ef6",
   "metadata": {},
   "outputs": [
    {
     "name": "stdout",
     "output_type": "stream",
     "text": [
      "5\n",
      "7\n",
      "2\n"
     ]
    },
    {
     "data": {
      "text/plain": [
       "'(6+5j)kunal'"
      ]
     },
     "execution_count": 15,
     "metadata": {},
     "output_type": "execute_result"
    }
   ],
   "source": [
    "a = int(input())\n",
    "b = int(input())\n",
    "c = int(input())\n",
    "\n",
    "o = (a+b)/c\n",
    "o1 = (o+5j)\n",
    "str(o1)+\"kunal\""
   ]
  },
  {
   "cell_type": "code",
   "execution_count": 12,
   "id": "16eac865",
   "metadata": {},
   "outputs": [
    {
     "data": {
      "text/plain": [
       "(5, 7, 2)"
      ]
     },
     "execution_count": 12,
     "metadata": {},
     "output_type": "execute_result"
    }
   ],
   "source": [
    "a,b,c"
   ]
  },
  {
   "cell_type": "code",
   "execution_count": 13,
   "id": "83dcd34c",
   "metadata": {},
   "outputs": [
    {
     "data": {
      "text/plain": [
       "6.0"
      ]
     },
     "execution_count": 13,
     "metadata": {},
     "output_type": "execute_result"
    }
   ],
   "source": [
    "o"
   ]
  },
  {
   "cell_type": "code",
   "execution_count": 14,
   "id": "55bedfe1",
   "metadata": {},
   "outputs": [
    {
     "data": {
      "text/plain": [
       "(6+5j)"
      ]
     },
     "execution_count": 14,
     "metadata": {},
     "output_type": "execute_result"
    }
   ],
   "source": [
    "o1"
   ]
  },
  {
   "cell_type": "code",
   "execution_count": 20,
   "id": "9708a600",
   "metadata": {},
   "outputs": [
    {
     "name": "stdout",
     "output_type": "stream",
     "text": [
      "65\n",
      "less han 100\n"
     ]
    }
   ],
   "source": [
    "a = int(input())\n",
    "if a < 34:\n",
    "    print(\"a is lesser\")\n",
    "elif a <100:\n",
    "    print(\"less han 100\")\n",
    "else:\n",
    "    print(\"a is greater\")"
   ]
  },
  {
   "cell_type": "code",
   "execution_count": 22,
   "id": "d69d2b76",
   "metadata": {},
   "outputs": [
    {
     "name": "stdout",
     "output_type": "stream",
     "text": [
      "36\n",
      "asving\n"
     ]
    }
   ],
   "source": [
    "sal = int(input())\n",
    "if sal > 1000:\n",
    "    print(\"car\")\n",
    "elif sal > 500:\n",
    "    print(\"bike\")\n",
    "elif sal > 100:\n",
    "    print(\"no\")\n",
    "else:\n",
    "    print(\"asving\")"
   ]
  },
  {
   "cell_type": "code",
   "execution_count": 25,
   "id": "00cd4bdb",
   "metadata": {},
   "outputs": [
    {
     "name": "stdout",
     "output_type": "stream",
     "text": [
      "165\n",
      "6\n",
      "ok\n"
     ]
    }
   ],
   "source": [
    "a = int(input())\n",
    "b = int(input())\n",
    "\n",
    "if a == b:\n",
    "    print(\"eqal\")\n",
    "elif a > 9 and b < 6:\n",
    "    print(\"finr\")\n",
    "else:\n",
    "    print(\"ok\")\n"
   ]
  },
  {
   "cell_type": "code",
   "execution_count": 28,
   "id": "b6afc5f8",
   "metadata": {},
   "outputs": [
    {
     "name": "stdout",
     "output_type": "stream",
     "text": [
      "speed\n",
      "speed\n",
      "speed\n",
      "speed\n",
      "speed\n",
      "speed\n",
      "speed\n",
      "speed\n",
      "speed\n"
     ]
    }
   ],
   "source": [
    "initial = 0\n",
    "final = 100\n",
    "count = 1 \n",
    "while initial <= final:\n",
    "    print(\"speed\")\n",
    "    count = count+ 1\n",
    "    if count== 10:\n",
    "         break"
   ]
  },
  {
   "cell_type": "code",
   "execution_count": 29,
   "id": "f7683be4",
   "metadata": {},
   "outputs": [
    {
     "name": "stdout",
     "output_type": "stream",
     "text": [
      "1\n",
      "2\n",
      "3\n",
      "4\n",
      "exit\n"
     ]
    }
   ],
   "source": [
    "notes = 5\n",
    "i =1\n",
    "while i < notes:\n",
    "    print(i)\n",
    "    i +=1\n",
    "else:\n",
    "    print(\"exit\")"
   ]
  },
  {
   "cell_type": "code",
   "execution_count": 30,
   "id": "da88f7e0",
   "metadata": {},
   "outputs": [],
   "source": [
    "s =\"kunal\""
   ]
  },
  {
   "cell_type": "code",
   "execution_count": 35,
   "id": "cbcb4d40",
   "metadata": {},
   "outputs": [
    {
     "data": {
      "text/plain": [
       "'lanuk'"
      ]
     },
     "execution_count": 35,
     "metadata": {},
     "output_type": "execute_result"
    }
   ],
   "source": [
    "s[::-1]"
   ]
  },
  {
   "cell_type": "code",
   "execution_count": 38,
   "id": "06266af9",
   "metadata": {},
   "outputs": [
    {
     "data": {
      "text/plain": [
       "'kunallanuk'"
      ]
     },
     "execution_count": 38,
     "metadata": {},
     "output_type": "execute_result"
    }
   ],
   "source": [
    "s+s[::-1]"
   ]
  },
  {
   "cell_type": "code",
   "execution_count": 48,
   "id": "f74c8d0f",
   "metadata": {},
   "outputs": [
    {
     "name": "stdout",
     "output_type": "stream",
     "text": [
      "0kunalnagpure\n"
     ]
    }
   ],
   "source": [
    "a = \"kunalnagpure\"\n",
    "for i in a:\n",
    "    if i == a:\n",
    "        continue\n",
    "    else:\n",
    "        s = str(s)+ i\n",
    "print(s)\n",
    "    "
   ]
  },
  {
   "cell_type": "code",
   "execution_count": 42,
   "id": "0dfb4e54",
   "metadata": {},
   "outputs": [
    {
     "data": {
      "text/plain": [
       "list"
      ]
     },
     "execution_count": 42,
     "metadata": {},
     "output_type": "execute_result"
    }
   ],
   "source": [
    "type(s)"
   ]
  },
  {
   "cell_type": "code",
   "execution_count": 55,
   "id": "5ef179ce",
   "metadata": {},
   "outputs": [],
   "source": [
    "a = [1,2,6,5,5,1,2,3]"
   ]
  },
  {
   "cell_type": "code",
   "execution_count": 56,
   "id": "5a360ea4",
   "metadata": {},
   "outputs": [
    {
     "data": {
      "text/plain": [
       "list"
      ]
     },
     "execution_count": 56,
     "metadata": {},
     "output_type": "execute_result"
    }
   ],
   "source": [
    "type(a)"
   ]
  },
  {
   "cell_type": "code",
   "execution_count": 51,
   "id": "04ad0fd7",
   "metadata": {},
   "outputs": [
    {
     "data": {
      "text/plain": [
       "{1, 2, 3, 5, 6}"
      ]
     },
     "execution_count": 51,
     "metadata": {},
     "output_type": "execute_result"
    }
   ],
   "source": [
    "set(a)"
   ]
  },
  {
   "cell_type": "code",
   "execution_count": 52,
   "id": "f6551994",
   "metadata": {},
   "outputs": [],
   "source": [
    "a = (1,2,6,5,5,1,2,3)"
   ]
  },
  {
   "cell_type": "code",
   "execution_count": 57,
   "id": "082feb6a",
   "metadata": {},
   "outputs": [
    {
     "data": {
      "text/plain": [
       "list"
      ]
     },
     "execution_count": 57,
     "metadata": {},
     "output_type": "execute_result"
    }
   ],
   "source": [
    "type(a)"
   ]
  },
  {
   "cell_type": "code",
   "execution_count": 58,
   "id": "96108f01",
   "metadata": {},
   "outputs": [
    {
     "data": {
      "text/plain": [
       "{1, 2, 3, 5, 6}"
      ]
     },
     "execution_count": 58,
     "metadata": {},
     "output_type": "execute_result"
    }
   ],
   "source": [
    "set(a)"
   ]
  },
  {
   "cell_type": "code",
   "execution_count": 59,
   "id": "559f7644",
   "metadata": {},
   "outputs": [
    {
     "data": {
      "text/plain": [
       "list"
      ]
     },
     "execution_count": 59,
     "metadata": {},
     "output_type": "execute_result"
    }
   ],
   "source": [
    "type(a)"
   ]
  },
  {
   "cell_type": "code",
   "execution_count": 67,
   "id": "fa9a6e36",
   "metadata": {},
   "outputs": [],
   "source": [
    "a = \"kunalnagpure\""
   ]
  },
  {
   "cell_type": "code",
   "execution_count": 61,
   "id": "d244fdba",
   "metadata": {},
   "outputs": [
    {
     "data": {
      "text/plain": [
       "str"
      ]
     },
     "execution_count": 61,
     "metadata": {},
     "output_type": "execute_result"
    }
   ],
   "source": [
    "type(a)"
   ]
  },
  {
   "cell_type": "code",
   "execution_count": 77,
   "id": "3c5a9bfd",
   "metadata": {},
   "outputs": [],
   "source": [
    "b = set(a)"
   ]
  },
  {
   "cell_type": "code",
   "execution_count": 83,
   "id": "a8ad226a",
   "metadata": {},
   "outputs": [
    {
     "name": "stdout",
     "output_type": "stream",
     "text": [
      "k\n",
      "ku\n",
      "kun\n",
      "kuna\n",
      "kunal\n",
      "kunaln\n",
      "kunalna\n",
      "kunalnag\n",
      "kunalnagp\n",
      "kunalnagpu\n",
      "kunalnagpur\n",
      "kunalnagpure\n"
     ]
    }
   ],
   "source": [
    "b = \"\"\n",
    "for i in range(len(a)):\n",
    "    if a[i] == a[i]:\n",
    "        b = b+a[i]\n",
    "        print(b)"
   ]
  },
  {
   "cell_type": "code",
   "execution_count": 150,
   "id": "2bab221d",
   "metadata": {},
   "outputs": [
    {
     "name": "stdout",
     "output_type": "stream",
     "text": [
      "* * * * * * * \n",
      " * * * * * * \n",
      "  * * * * * \n",
      "   * * * * \n",
      "    * * * \n",
      "     * * \n",
      "      * \n"
     ]
    }
   ],
   "source": [
    "n = 7\n",
    "for i in range(n):\n",
    "    for k in range(i):\n",
    "        print(\" \",end = \"\")\n",
    "    for j in range(n-i):\n",
    "        print(\"* \", end = \"\")\n",
    "    \n",
    "    print(\"\")"
   ]
  },
  {
   "cell_type": "code",
   "execution_count": 212,
   "id": "77cdbf26",
   "metadata": {},
   "outputs": [
    {
     "name": "stdout",
     "output_type": "stream",
     "text": [
      "5\n",
      "* * * * * \n",
      " * * * * \n",
      "  * * * \n",
      "   * * \n",
      "    * \n"
     ]
    }
   ],
   "source": [
    "n = int(input())\n",
    "for i in range(n):\n",
    "    print(\" \"*i+\"* \"*(n-i))"
   ]
  },
  {
   "cell_type": "code",
   "execution_count": 224,
   "id": "8fde177d",
   "metadata": {},
   "outputs": [
    {
     "name": "stdout",
     "output_type": "stream",
     "text": [
      "k 0\n",
      "k 1\n",
      "k 2\n",
      "k 3\n",
      "k 4\n",
      "u 0\n",
      "u 1\n",
      "u 2\n",
      "u 3\n",
      "u 4\n",
      "n 0\n",
      "n 1\n",
      "n 2\n",
      "n 3\n",
      "n 4\n",
      "a 0\n",
      "a 1\n",
      "a 2\n",
      "a 3\n",
      "a 4\n",
      "l 0\n",
      "l 1\n",
      "l 2\n",
      "l 3\n",
      "l 4\n"
     ]
    }
   ],
   "source": [
    "n = \"kunal\"\n",
    "for i in n:\n",
    "    print(i)"
   ]
  },
  {
   "cell_type": "code",
   "execution_count": 223,
   "id": "f2d5b193",
   "metadata": {},
   "outputs": [
    {
     "data": {
      "text/plain": [
       "range(0, 5)"
      ]
     },
     "execution_count": 223,
     "metadata": {},
     "output_type": "execute_result"
    }
   ],
   "source": []
  },
  {
   "cell_type": "code",
   "execution_count": 215,
   "id": "a3e5652c",
   "metadata": {},
   "outputs": [
    {
     "data": {
      "text/plain": [
       "str"
      ]
     },
     "execution_count": 215,
     "metadata": {},
     "output_type": "execute_result"
    }
   ],
   "source": [
    "type(n)"
   ]
  },
  {
   "cell_type": "code",
   "execution_count": 207,
   "id": "2eb60061",
   "metadata": {},
   "outputs": [
    {
     "name": "stdout",
     "output_type": "stream",
     "text": [
      "5\n",
      "          *\n",
      "         ***\n",
      "        *****\n",
      "       *******\n",
      "      *********\n"
     ]
    }
   ],
   "source": [
    "n = int(input())\n",
    "i = 0\n",
    "while i < n:\n",
    "    print(\" \"*(2*n-i)+\"*\"*(2*i+1))\n",
    "    i = i+1"
   ]
  },
  {
   "cell_type": "code",
   "execution_count": 206,
   "id": "b8b54a77",
   "metadata": {},
   "outputs": [
    {
     "data": {
      "text/plain": [
       "int"
      ]
     },
     "execution_count": 206,
     "metadata": {},
     "output_type": "execute_result"
    }
   ],
   "source": [
    "type(n)"
   ]
  },
  {
   "cell_type": "code",
   "execution_count": 225,
   "id": "c40aec8a",
   "metadata": {},
   "outputs": [
    {
     "name": "stdout",
     "output_type": "stream",
     "text": [
      "k\n",
      "ku\n",
      "kun\n",
      "kuna\n",
      "kunal\n",
      "kunaln\n"
     ]
    }
   ],
   "source": [
    "a = \"kunaln\"\n",
    "b = \"\"\n",
    "for i in range(len(a)):\n",
    "    if a[i] == a[i]:\n",
    "        b = b+a[i]\n",
    "        print(b)"
   ]
  },
  {
   "cell_type": "code",
   "execution_count": 260,
   "id": "8fefdff8",
   "metadata": {},
   "outputs": [
    {
     "name": "stdout",
     "output_type": "stream",
     "text": [
      "      k\n",
      "     ku\n",
      "    kun\n",
      "   kuna\n",
      "  kunal\n",
      " kunaln\n"
     ]
    }
   ],
   "source": [
    "s = \"kunaln\"\n",
    "a = len(s)\n",
    "b = \"\"\n",
    "while len(b)< a:\n",
    "    b = b + \"\" +s[len(b)]\n",
    "    print(\" \"*(a-len(b))+\" \"+b)\n"
   ]
  },
  {
   "cell_type": "code",
   "execution_count": 233,
   "id": "08ac8269",
   "metadata": {},
   "outputs": [
    {
     "data": {
      "text/plain": [
       "0"
      ]
     },
     "execution_count": 233,
     "metadata": {},
     "output_type": "execute_result"
    }
   ],
   "source": [
    "len(b)"
   ]
  },
  {
   "cell_type": "code",
   "execution_count": 261,
   "id": "3a6d9fd0",
   "metadata": {},
   "outputs": [],
   "source": [
    "l = [\"asd\",25,[\"asd\",565,225,\"fsd\"]]"
   ]
  },
  {
   "cell_type": "code",
   "execution_count": 271,
   "id": "0f3f3a1a",
   "metadata": {},
   "outputs": [
    {
     "ename": "TypeError",
     "evalue": "'str' object does not support item assignment",
     "output_type": "error",
     "traceback": [
      "\u001b[1;31m---------------------------------------------------------------------------\u001b[0m",
      "\u001b[1;31mTypeError\u001b[0m                                 Traceback (most recent call last)",
      "\u001b[1;32m~\\AppData\\Local\\Temp/ipykernel_2044/92895063.py\u001b[0m in \u001b[0;36m<module>\u001b[1;34m\u001b[0m\n\u001b[1;32m----> 1\u001b[1;33m \u001b[0ml\u001b[0m\u001b[1;33m[\u001b[0m\u001b[1;36m2\u001b[0m\u001b[1;33m]\u001b[0m\u001b[1;33m[\u001b[0m\u001b[1;36m0\u001b[0m\u001b[1;33m]\u001b[0m\u001b[1;33m[\u001b[0m\u001b[1;36m1\u001b[0m\u001b[1;33m]\u001b[0m \u001b[1;33m=\u001b[0m \u001b[1;34m\"a\"\u001b[0m\u001b[1;33m\u001b[0m\u001b[1;33m\u001b[0m\u001b[0m\n\u001b[0m",
      "\u001b[1;31mTypeError\u001b[0m: 'str' object does not support item assignment"
     ]
    }
   ],
   "source": [
    "l[2][0][1] = \"a\""
   ]
  },
  {
   "cell_type": "code",
   "execution_count": 286,
   "id": "e0564634",
   "metadata": {},
   "outputs": [
    {
     "data": {
      "text/plain": [
       "'kunallanuk'"
      ]
     },
     "execution_count": 286,
     "metadata": {},
     "output_type": "execute_result"
    }
   ],
   "source": [
    "a = \"kunal\"\n",
    "b = a[::-1]\n",
    "c = a+b\n",
    "c"
   ]
  },
  {
   "cell_type": "code",
   "execution_count": 282,
   "id": "bf7c5aef",
   "metadata": {},
   "outputs": [
    {
     "data": {
      "text/plain": [
       "'lanuk'"
      ]
     },
     "execution_count": 282,
     "metadata": {},
     "output_type": "execute_result"
    }
   ],
   "source": [
    "a[::-1]"
   ]
  },
  {
   "cell_type": "code",
   "execution_count": 292,
   "id": "63ef7c99",
   "metadata": {},
   "outputs": [],
   "source": [
    "a = \"kunalnagpure\"\n",
    "b = list(set(a))"
   ]
  },
  {
   "cell_type": "code",
   "execution_count": 295,
   "id": "66a5b435",
   "metadata": {},
   "outputs": [
    {
     "data": {
      "text/plain": [
       "['g', 'r', 'l', 'u', 'a', 'e', 'n', 'k', 'p']"
      ]
     },
     "execution_count": 295,
     "metadata": {},
     "output_type": "execute_result"
    }
   ],
   "source": [
    "b"
   ]
  },
  {
   "cell_type": "code",
   "execution_count": 294,
   "id": "3df9229a",
   "metadata": {},
   "outputs": [
    {
     "ename": "TypeError",
     "evalue": "list indices must be integers or slices, not str",
     "output_type": "error",
     "traceback": [
      "\u001b[1;31m---------------------------------------------------------------------------\u001b[0m",
      "\u001b[1;31mTypeError\u001b[0m                                 Traceback (most recent call last)",
      "\u001b[1;32m~\\AppData\\Local\\Temp/ipykernel_2044/1113372151.py\u001b[0m in \u001b[0;36m<module>\u001b[1;34m\u001b[0m\n\u001b[0;32m      1\u001b[0m \u001b[0mc\u001b[0m \u001b[1;33m=\u001b[0m \u001b[1;34m\"\"\u001b[0m\u001b[1;33m\u001b[0m\u001b[1;33m\u001b[0m\u001b[0m\n\u001b[0;32m      2\u001b[0m \u001b[1;32mfor\u001b[0m \u001b[0mi\u001b[0m \u001b[1;32min\u001b[0m \u001b[0mb\u001b[0m\u001b[1;33m:\u001b[0m\u001b[1;33m\u001b[0m\u001b[1;33m\u001b[0m\u001b[0m\n\u001b[1;32m----> 3\u001b[1;33m     \u001b[1;32mif\u001b[0m \u001b[0mb\u001b[0m\u001b[1;33m[\u001b[0m\u001b[0mi\u001b[0m\u001b[1;33m]\u001b[0m\u001b[1;33m==\u001b[0m\u001b[0mb\u001b[0m\u001b[1;33m[\u001b[0m\u001b[0mi\u001b[0m\u001b[1;33m]\u001b[0m\u001b[1;33m:\u001b[0m\u001b[1;33m\u001b[0m\u001b[1;33m\u001b[0m\u001b[0m\n\u001b[0m\u001b[0;32m      4\u001b[0m         \u001b[0mc\u001b[0m \u001b[1;33m=\u001b[0m \u001b[0mc\u001b[0m \u001b[1;33m+\u001b[0m \u001b[0mb\u001b[0m\u001b[1;33m[\u001b[0m\u001b[0mi\u001b[0m\u001b[1;33m]\u001b[0m\u001b[1;33m\u001b[0m\u001b[1;33m\u001b[0m\u001b[0m\n\u001b[0;32m      5\u001b[0m         \u001b[0mprint\u001b[0m\u001b[1;33m(\u001b[0m\u001b[0mc\u001b[0m\u001b[1;33m)\u001b[0m\u001b[1;33m\u001b[0m\u001b[1;33m\u001b[0m\u001b[0m\n",
      "\u001b[1;31mTypeError\u001b[0m: list indices must be integers or slices, not str"
     ]
    }
   ],
   "source": [
    "c = \"\"\n",
    "for i in b:\n",
    "    print(b, end)"
   ]
  },
  {
   "cell_type": "code",
   "execution_count": 1,
   "id": "a7bf2d94",
   "metadata": {},
   "outputs": [],
   "source": [
    "  s = \"my name is kunal\""
   ]
  },
  {
   "cell_type": "code",
   "execution_count": 2,
   "id": "3b3e7e75",
   "metadata": {},
   "outputs": [
    {
     "data": {
      "text/plain": [
       "3"
      ]
     },
     "execution_count": 2,
     "metadata": {},
     "output_type": "execute_result"
    }
   ],
   "source": [
    "s.index(\"name\")"
   ]
  },
  {
   "cell_type": "code",
   "execution_count": 3,
   "id": "703b58b6",
   "metadata": {},
   "outputs": [
    {
     "data": {
      "text/plain": [
       "'n'"
      ]
     },
     "execution_count": 3,
     "metadata": {},
     "output_type": "execute_result"
    }
   ],
   "source": [
    "s[3]"
   ]
  },
  {
   "cell_type": "code",
   "execution_count": 9,
   "id": "ff9185e4",
   "metadata": {},
   "outputs": [
    {
     "name": "stdout",
     "output_type": "stream",
     "text": [
      "3\n",
      "4\n",
      "5\n",
      "6\n"
     ]
    }
   ],
   "source": [
    "b = s.find(\"name\")\n",
    "for i in range(len(\"name\")):\n",
    "    print(b+i)"
   ]
  },
  {
   "cell_type": "code",
   "execution_count": 14,
   "id": "b856e4aa",
   "metadata": {},
   "outputs": [
    {
     "name": "stdout",
     "output_type": "stream",
     "text": [
      "n\n",
      "n\n"
     ]
    }
   ],
   "source": [
    "for i in s:\n",
    "    if i == \"n\":\n",
    "        print(i)"
   ]
  },
  {
   "cell_type": "code",
   "execution_count": 15,
   "id": "28575db2",
   "metadata": {},
   "outputs": [],
   "source": [
    "b = reversed(s)"
   ]
  },
  {
   "cell_type": "code",
   "execution_count": 16,
   "id": "aaf2dfec",
   "metadata": {},
   "outputs": [
    {
     "data": {
      "text/plain": [
       "<reversed at 0x2734ec2c5b0>"
      ]
     },
     "execution_count": 16,
     "metadata": {},
     "output_type": "execute_result"
    }
   ],
   "source": [
    "b"
   ]
  },
  {
   "cell_type": "code",
   "execution_count": 17,
   "id": "ec019191",
   "metadata": {},
   "outputs": [
    {
     "data": {
      "text/plain": [
       "['l',\n",
       " 'a',\n",
       " 'n',\n",
       " 'u',\n",
       " 'k',\n",
       " ' ',\n",
       " 's',\n",
       " 'i',\n",
       " ' ',\n",
       " 'e',\n",
       " 'm',\n",
       " 'a',\n",
       " 'n',\n",
       " ' ',\n",
       " 'y',\n",
       " 'm']"
      ]
     },
     "execution_count": 17,
     "metadata": {},
     "output_type": "execute_result"
    }
   ],
   "source": [
    "list(b)"
   ]
  },
  {
   "cell_type": "code",
   "execution_count": 18,
   "id": "0f5e7a3e",
   "metadata": {},
   "outputs": [],
   "source": [
    "s = \"kunal\""
   ]
  },
  {
   "cell_type": "code",
   "execution_count": 20,
   "id": "44d1c76b",
   "metadata": {},
   "outputs": [
    {
     "data": {
      "text/plain": [
       "'bbbbbbbkunalbbbbbbbb'"
      ]
     },
     "execution_count": 20,
     "metadata": {},
     "output_type": "execute_result"
    }
   ],
   "source": [
    "s.center(20,\"b\")"
   ]
  },
  {
   "cell_type": "code",
   "execution_count": 26,
   "id": "326b56c0",
   "metadata": {},
   "outputs": [],
   "source": [
    "s = \"kunal\\tkunal\""
   ]
  },
  {
   "cell_type": "code",
   "execution_count": 27,
   "id": "63624928",
   "metadata": {},
   "outputs": [
    {
     "data": {
      "text/plain": [
       "'kunal   kunal'"
      ]
     },
     "execution_count": 27,
     "metadata": {},
     "output_type": "execute_result"
    }
   ],
   "source": [
    "s.expandtabs()"
   ]
  },
  {
   "cell_type": "code",
   "execution_count": 28,
   "id": "fd3a5b01",
   "metadata": {},
   "outputs": [],
   "source": [
    "a = \"we all are a part of Full Stack\""
   ]
  },
  {
   "cell_type": "code",
   "execution_count": 29,
   "id": "0a8c2def",
   "metadata": {},
   "outputs": [
    {
     "data": {
      "text/plain": [
       "'we all are a part of full stack'"
      ]
     },
     "execution_count": 29,
     "metadata": {},
     "output_type": "execute_result"
    }
   ],
   "source": [
    "a.lower()"
   ]
  },
  {
   "cell_type": "code",
   "execution_count": 30,
   "id": "a2878ee8",
   "metadata": {},
   "outputs": [
    {
     "data": {
      "text/plain": [
       "5"
      ]
     },
     "execution_count": 30,
     "metadata": {},
     "output_type": "execute_result"
    }
   ],
   "source": [
    "a.count(\"a\")"
   ]
  },
  {
   "cell_type": "code",
   "execution_count": 47,
   "id": "334ae7e3",
   "metadata": {},
   "outputs": [
    {
     "data": {
      "text/plain": [
       "3"
      ]
     },
     "execution_count": 47,
     "metadata": {},
     "output_type": "execute_result"
    }
   ],
   "source": [
    "a.index(\"a\")"
   ]
  },
  {
   "cell_type": "code",
   "execution_count": 49,
   "id": "baf80197",
   "metadata": {},
   "outputs": [
    {
     "name": "stdout",
     "output_type": "stream",
     "text": [
      "3\n",
      "7\n",
      "11\n",
      "14\n",
      "28\n"
     ]
    }
   ],
   "source": [
    "for i in range(len(a)):\n",
    "    if a[i] == \"a\":\n",
    "        print(i)"
   ]
  },
  {
   "cell_type": "code",
   "execution_count": 51,
   "id": "80e6751d",
   "metadata": {},
   "outputs": [
    {
     "data": {
      "text/plain": [
       "'we Inueronll Inueronre Inueron pInueronrt of Full StInueronck'"
      ]
     },
     "execution_count": 51,
     "metadata": {},
     "output_type": "execute_result"
    }
   ],
   "source": [
    "a.replace(\"a\", \"Inueron\")"
   ]
  },
  {
   "cell_type": "code",
   "execution_count": 52,
   "id": "12bf3784",
   "metadata": {},
   "outputs": [],
   "source": [
    "d = a.replace(\"a\", \"Inueron\") "
   ]
  },
  {
   "cell_type": "code",
   "execution_count": 53,
   "id": "621854ea",
   "metadata": {},
   "outputs": [
    {
     "data": {
      "text/plain": [
       "['we',\n",
       " 'Inueronll',\n",
       " 'Inueronre',\n",
       " 'Inueron',\n",
       " 'pInueronrt',\n",
       " 'of',\n",
       " 'Full',\n",
       " 'StInueronck']"
      ]
     },
     "execution_count": 53,
     "metadata": {},
     "output_type": "execute_result"
    }
   ],
   "source": [
    "d.split()"
   ]
  },
  {
   "cell_type": "code",
   "execution_count": 55,
   "id": "295ed7a0",
   "metadata": {},
   "outputs": [
    {
     "name": "stdout",
     "output_type": "stream",
     "text": [
      "I is in vowel\n",
      "n is not vowel\n",
      "u is in vowel\n",
      "e is in vowel\n",
      "r is not vowel\n",
      "o is in vowel\n",
      "n is not vowel\n"
     ]
    }
   ],
   "source": [
    "name = \"Inueron\"\n",
    "vowel = \"AaEeIiOoUu\"\n",
    "\n",
    "for i in name:\n",
    "    if i in vowel:\n",
    "        print( \"{} is in vowel\".format(i))\n",
    "    else:\n",
    "        print(\"{} is not vowel\".format(i))"
   ]
  },
  {
   "cell_type": "code",
   "execution_count": 81,
   "id": "df265560",
   "metadata": {},
   "outputs": [
    {
     "name": "stdout",
     "output_type": "stream",
     "text": [
      "2001\n",
      "is not a paladrome\n"
     ]
    }
   ],
   "source": [
    "s = input()\n",
    "b = s[::-1]\n",
    "\n",
    "if s == b:\n",
    "    print(\"it is a paladrome\")\n",
    "else:\n",
    "    print(\"is not a paladrome\")"
   ]
  },
  {
   "cell_type": "code",
   "execution_count": 80,
   "id": "5ae533ae",
   "metadata": {},
   "outputs": [],
   "source": [
    "a = \"kunal\""
   ]
  },
  {
   "cell_type": "code",
   "execution_count": 76,
   "id": "250b8c8a",
   "metadata": {},
   "outputs": [
    {
     "data": {
      "text/plain": [
       "'lanuk'"
      ]
     },
     "execution_count": 76,
     "metadata": {},
     "output_type": "execute_result"
    }
   ],
   "source": [
    "a[::-1]"
   ]
  },
  {
   "cell_type": "code",
   "execution_count": 2,
   "id": "14cbc1a1",
   "metadata": {},
   "outputs": [
    {
     "data": {
      "text/plain": [
       "['kuna',\n",
       " ['abc', 45],\n",
       " (2+3j),\n",
       " [1, 2, 3],\n",
       " [1, 5, 8],\n",
       " [4, 'pallu', 'pallu', 'pallu', 5, 6],\n",
       " [7, 8, 9, 'kuna']]"
      ]
     },
     "execution_count": 2,
     "metadata": {},
     "output_type": "execute_result"
    }
   ],
   "source": [
    "l = [\"kuna\",[1,2,3],[4,\"pallu\",\"pallu\",\"pallu\",5,6],[7,8,9,\"kuna\"]]\n",
    "l.insert(1,[\"abc\",45])\n",
    "l.insert(3,[1,5,8])\n",
    "l.insert(2,2+3j)\n",
    "l"
   ]
  },
  {
   "cell_type": "code",
   "execution_count": 102,
   "id": "d76deb9c",
   "metadata": {},
   "outputs": [
    {
     "name": "stdout",
     "output_type": "stream",
     "text": [
      "Srting abc at index 1 0\n",
      "Srting pallu at index 3 1\n",
      "Srting pallu at index 3 2\n",
      "Srting pallu at index 3 3\n",
      "Srting kuna at index 5 3\n"
     ]
    }
   ],
   "source": [
    "l = [[1,2,3],[4,\"pallu\",\"pallu\",\"pallu\",5,6],[7,8,9,\"kuna\"]]\n",
    "l.insert(1,[\"abc\",45])\n",
    "l.insert(3,[1,5,8])\n",
    "l.insert(2,2+3j)\n",
    "l\n",
    "for i in l:\n",
    "    k = -1\n",
    "    if type(i) == list:\n",
    "        for j in i:\n",
    "            k += 1\n",
    "            if type(j) == str:\n",
    "                print(\"Srting {} at index\".format(j), l.index(i),k)\n",
    "                \n",
    "\n",
    "                \n",
    "                "
   ]
  },
  {
   "cell_type": "code",
   "execution_count": 90,
   "id": "efa76c50",
   "metadata": {},
   "outputs": [
    {
     "data": {
      "text/plain": [
       "'kuna'"
      ]
     },
     "execution_count": 90,
     "metadata": {},
     "output_type": "execute_result"
    }
   ],
   "source": [
    "l[5][3]"
   ]
  },
  {
   "cell_type": "code",
   "execution_count": 101,
   "id": "d3ac8bc5",
   "metadata": {},
   "outputs": [
    {
     "data": {
      "text/plain": [
       "[[1, 2, 3], [45], (2+3j), [4, 5, 6], [1, 5, 8], [7, 8, 9]]"
      ]
     },
     "execution_count": 101,
     "metadata": {},
     "output_type": "execute_result"
    }
   ],
   "source": [
    "l"
   ]
  },
  {
   "cell_type": "code",
   "execution_count": 4,
   "id": "896091ab",
   "metadata": {},
   "outputs": [
    {
     "name": "stdout",
     "output_type": "stream",
     "text": [
      "abc 0\n",
      "abc\n",
      "pallu 1\n",
      "pallu 2\n",
      "pallu 3\n",
      "pallu\n",
      "pallu\n",
      "pallu\n",
      "kuna 3\n",
      "kuna\n",
      "['kuna', [45], (2+3j), [1, 2, 3], [1, 5, 8], [4, 5, 6], [7, 8, 9]]\n"
     ]
    }
   ],
   "source": [
    "l = [\"kuna\",[1,2,3],[4,\"pallu\",\"pallu\",\"pallu\",5,6],[7,8,9,\"kuna\"]]\n",
    "l.insert(1,[\"abc\",45])\n",
    "l.insert(3,[1,5,8])\n",
    "l.insert(2,2+3j)\n",
    "l\n",
    "for i in l:\n",
    "    if type(i) == list:\n",
    "        j = 0\n",
    "        while j < len(i):\n",
    "            if type(i[j]) is str:\n",
    "                print(i[j],j)\n",
    "            j = j + 1\n",
    "        j=0\n",
    "        while j < len(i):\n",
    "            if type(i[j]) is str:\n",
    "                print(i[j])\n",
    "                i.remove(i[j])\n",
    "                continue\n",
    "            j +=1\n",
    "print(l)"
   ]
  },
  {
   "cell_type": "code",
   "execution_count": 12,
   "id": "9e7afd09",
   "metadata": {},
   "outputs": [],
   "source": [
    "l = []"
   ]
  },
  {
   "cell_type": "code",
   "execution_count": 19,
   "id": "a25d4e2d",
   "metadata": {},
   "outputs": [
    {
     "ename": "SyntaxError",
     "evalue": "invalid syntax (Temp/ipykernel_6804/2427897720.py, line 1)",
     "output_type": "error",
     "traceback": [
      "\u001b[1;36m  File \u001b[1;32m\"E:\\Users\\King\\AppData\\Local\\Temp/ipykernel_6804/2427897720.py\"\u001b[1;36m, line \u001b[1;32m1\u001b[0m\n\u001b[1;33m    [i for i in range(10) if i%2==1] print(i[0])\u001b[0m\n\u001b[1;37m                                     ^\u001b[0m\n\u001b[1;31mSyntaxError\u001b[0m\u001b[1;31m:\u001b[0m invalid syntax\n"
     ]
    }
   ],
   "source": [
    "[i for i in range(10) if i%2==1] print(i[0])"
   ]
  },
  {
   "cell_type": "code",
   "execution_count": 34,
   "id": "9c4e0679",
   "metadata": {},
   "outputs": [],
   "source": [
    "x = {\"name\":[\"kun\",\"lal\",\"dsad\",123,11,125]}"
   ]
  },
  {
   "cell_type": "code",
   "execution_count": 28,
   "id": "b9a613bb",
   "metadata": {},
   "outputs": [
    {
     "data": {
      "text/plain": [
       "dict"
      ]
     },
     "execution_count": 28,
     "metadata": {},
     "output_type": "execute_result"
    }
   ],
   "source": [
    "type(x)"
   ]
  },
  {
   "cell_type": "code",
   "execution_count": 37,
   "id": "28616f41",
   "metadata": {},
   "outputs": [
    {
     "data": {
      "text/plain": [
       "11"
      ]
     },
     "execution_count": 37,
     "metadata": {},
     "output_type": "execute_result"
    }
   ],
   "source": [
    "x[\"name\"][4]"
   ]
  },
  {
   "cell_type": "code",
   "execution_count": 84,
   "id": "49dbcce2",
   "metadata": {},
   "outputs": [
    {
     "name": "stdout",
     "output_type": "stream",
     "text": [
      "Our headquarters has come a long way from its humble roots in a Menlo Park garage, but our innovative Silicon Valley spirit is stronger than ever. On our largest campus, we work on cutting-edge products that are changing the way billions of people use technology. Onsite benefits like fitness and wellness centers embody our philosophy that taking care of Googlers is good for all of us. Build team skills with a group cooking class or coffee tasting, ride a gBike to one of our cafés, or work up a sweat in a group class. Here at the Googleplex, we’re looking for innovators, collaborators, and blue-sky thinkers. We’re looking for you.\n"
     ]
    }
   ],
   "source": [
    "a = input()"
   ]
  },
  {
   "cell_type": "code",
   "execution_count": 104,
   "id": "fd165e7e",
   "metadata": {},
   "outputs": [],
   "source": [
    "l = a.split()"
   ]
  },
  {
   "cell_type": "code",
   "execution_count": 105,
   "id": "55e4cce9",
   "metadata": {},
   "outputs": [],
   "source": [
    "s1 = set(l)"
   ]
  },
  {
   "cell_type": "code",
   "execution_count": 108,
   "id": "3bf1bb01",
   "metadata": {},
   "outputs": [],
   "source": [
    "d1 = dict.fromkeys(s1,'kunal')"
   ]
  },
  {
   "cell_type": "code",
   "execution_count": 109,
   "id": "c8d93e29",
   "metadata": {},
   "outputs": [
    {
     "data": {
      "text/plain": [
       "{'come': 'kunal',\n",
       " 'cafés,': 'kunal',\n",
       " 'you.': 'kunal',\n",
       " 'cutting-edge': 'kunal',\n",
       " 'of': 'kunal',\n",
       " 'Menlo': 'kunal',\n",
       " 'to': 'kunal',\n",
       " 'we’re': 'kunal',\n",
       " 'cooking': 'kunal',\n",
       " 'humble': 'kunal',\n",
       " 'centers': 'kunal',\n",
       " 'roots': 'kunal',\n",
       " 'spirit': 'kunal',\n",
       " 'class': 'kunal',\n",
       " 'Onsite': 'kunal',\n",
       " 'up': 'kunal',\n",
       " 'its': 'kunal',\n",
       " 'wellness': 'kunal',\n",
       " 'Valley': 'kunal',\n",
       " 'tasting,': 'kunal',\n",
       " 'ever.': 'kunal',\n",
       " 'embody': 'kunal',\n",
       " 'in': 'kunal',\n",
       " 'long': 'kunal',\n",
       " 'the': 'kunal',\n",
       " 'collaborators,': 'kunal',\n",
       " 'fitness': 'kunal',\n",
       " 'has': 'kunal',\n",
       " 'a': 'kunal',\n",
       " 'thinkers.': 'kunal',\n",
       " 'Googleplex,': 'kunal',\n",
       " 'like': 'kunal',\n",
       " 'us.': 'kunal',\n",
       " 'benefits': 'kunal',\n",
       " 'Build': 'kunal',\n",
       " 'all': 'kunal',\n",
       " 'for': 'kunal',\n",
       " 'group': 'kunal',\n",
       " 'sweat': 'kunal',\n",
       " 'taking': 'kunal',\n",
       " 'on': 'kunal',\n",
       " 'headquarters': 'kunal',\n",
       " 'that': 'kunal',\n",
       " 'looking': 'kunal',\n",
       " 'ride': 'kunal',\n",
       " 'we': 'kunal',\n",
       " 'Here': 'kunal',\n",
       " 'at': 'kunal',\n",
       " 'stronger': 'kunal',\n",
       " 'is': 'kunal',\n",
       " 'blue-sky': 'kunal',\n",
       " 'than': 'kunal',\n",
       " 'Park': 'kunal',\n",
       " 'Silicon': 'kunal',\n",
       " 'people': 'kunal',\n",
       " 'and': 'kunal',\n",
       " 'innovative': 'kunal',\n",
       " 'with': 'kunal',\n",
       " 'On': 'kunal',\n",
       " 'class.': 'kunal',\n",
       " 'coffee': 'kunal',\n",
       " 'largest': 'kunal',\n",
       " 'Googlers': 'kunal',\n",
       " 'our': 'kunal',\n",
       " 'garage,': 'kunal',\n",
       " 'way': 'kunal',\n",
       " 'good': 'kunal',\n",
       " 'skills': 'kunal',\n",
       " 'are': 'kunal',\n",
       " 'from': 'kunal',\n",
       " 'innovators,': 'kunal',\n",
       " 'products': 'kunal',\n",
       " 'one': 'kunal',\n",
       " 'philosophy': 'kunal',\n",
       " 'billions': 'kunal',\n",
       " 'but': 'kunal',\n",
       " 'We’re': 'kunal',\n",
       " 'or': 'kunal',\n",
       " 'care': 'kunal',\n",
       " 'work': 'kunal',\n",
       " 'use': 'kunal',\n",
       " 'team': 'kunal',\n",
       " 'gBike': 'kunal',\n",
       " 'technology.': 'kunal',\n",
       " 'changing': 'kunal',\n",
       " 'Our': 'kunal',\n",
       " 'campus,': 'kunal'}"
      ]
     },
     "execution_count": 109,
     "metadata": {},
     "output_type": "execute_result"
    }
   ],
   "source": [
    "d1"
   ]
  },
  {
   "cell_type": "code",
   "execution_count": 119,
   "id": "fab807bd",
   "metadata": {},
   "outputs": [
    {
     "data": {
      "text/plain": [
       "('kunal',\n",
       " 'kunal',\n",
       " 'kunal',\n",
       " 'kunal',\n",
       " 'kunal',\n",
       " 'kunal',\n",
       " 'kunal',\n",
       " 'kunal',\n",
       " 'kunal',\n",
       " 'kunal',\n",
       " 'kunal',\n",
       " 'kunal',\n",
       " 'kunal',\n",
       " 'kunal',\n",
       " 'kunal',\n",
       " 'kunal',\n",
       " 'kunal',\n",
       " 'kunal',\n",
       " 'kunal',\n",
       " 'kunal',\n",
       " 'kunal',\n",
       " 'kunal',\n",
       " 'kunal',\n",
       " 'kunal',\n",
       " 'kunal',\n",
       " 'kunal',\n",
       " 'kunal',\n",
       " 'kunal',\n",
       " 'kunal',\n",
       " 'kunal',\n",
       " 'kunal',\n",
       " 'kunal',\n",
       " 'kunal',\n",
       " 'kunal',\n",
       " 'kunal',\n",
       " 'kunal',\n",
       " 'kunal',\n",
       " 'kunal',\n",
       " 'kunal',\n",
       " 'kunal',\n",
       " 'kunal',\n",
       " 'kunal',\n",
       " 'kunal',\n",
       " 'kunal',\n",
       " 'kunal',\n",
       " 'kunal',\n",
       " 'kunal',\n",
       " 'kunal',\n",
       " 'kunal',\n",
       " 'kunal',\n",
       " 'kunal',\n",
       " 'kunal',\n",
       " 'kunal',\n",
       " 'kunal',\n",
       " 'kunal',\n",
       " 'kunal',\n",
       " 'kunal',\n",
       " 'kunal',\n",
       " 'kunal',\n",
       " 'kunal',\n",
       " 'kunal',\n",
       " 'kunal',\n",
       " 'kunal',\n",
       " 'kunal',\n",
       " 'kunal',\n",
       " 'kunal',\n",
       " 'kunal',\n",
       " 'kunal',\n",
       " 'kunal',\n",
       " 'kunal',\n",
       " 'kunal',\n",
       " 'kunal',\n",
       " 'kunal',\n",
       " 'kunal',\n",
       " 'kunal',\n",
       " 'kunal',\n",
       " 'kunal',\n",
       " 'kunal',\n",
       " 'kunal',\n",
       " 'kunal',\n",
       " 'kunal',\n",
       " 'kunal',\n",
       " 'kunal',\n",
       " 'kunal',\n",
       " 'kunal',\n",
       " 'kunal',\n",
       " 'kunal')"
      ]
     },
     "execution_count": 119,
     "metadata": {},
     "output_type": "execute_result"
    }
   ],
   "source": [
    "v = tuple(d1.values())\n",
    "v"
   ]
  },
  {
   "cell_type": "code",
   "execution_count": 117,
   "id": "ab9dc222",
   "metadata": {},
   "outputs": [
    {
     "data": {
      "text/plain": [
       "dict_keys"
      ]
     },
     "execution_count": 117,
     "metadata": {},
     "output_type": "execute_result"
    }
   ],
   "source": [
    "type()"
   ]
  },
  {
   "cell_type": "code",
   "execution_count": 118,
   "id": "02389a89",
   "metadata": {},
   "outputs": [
    {
     "data": {
      "text/plain": [
       "dict_keys(['come', 'cafés,', 'you.', 'cutting-edge', 'of', 'Menlo', 'to', 'we’re', 'cooking', 'humble', 'centers', 'roots', 'spirit', 'class', 'Onsite', 'up', 'its', 'wellness', 'Valley', 'tasting,', 'ever.', 'embody', 'in', 'long', 'the', 'collaborators,', 'fitness', 'has', 'a', 'thinkers.', 'Googleplex,', 'like', 'us.', 'benefits', 'Build', 'all', 'for', 'group', 'sweat', 'taking', 'on', 'headquarters', 'that', 'looking', 'ride', 'we', 'Here', 'at', 'stronger', 'is', 'blue-sky', 'than', 'Park', 'Silicon', 'people', 'and', 'innovative', 'with', 'On', 'class.', 'coffee', 'largest', 'Googlers', 'our', 'garage,', 'way', 'good', 'skills', 'are', 'from', 'innovators,', 'products', 'one', 'philosophy', 'billions', 'but', 'We’re', 'or', 'care', 'work', 'use', 'team', 'gBike', 'technology.', 'changing', 'Our', 'campus,'])"
      ]
     },
     "execution_count": 118,
     "metadata": {},
     "output_type": "execute_result"
    }
   ],
   "source": [
    "k = d1.keys()\n",
    "k"
   ]
  },
  {
   "cell_type": "code",
   "execution_count": 69,
   "id": "6ebbe85d",
   "metadata": {},
   "outputs": [],
   "source": [
    "def test(*args):\n",
    "    l = []\n",
    "    for i in args:\n",
    "        l.append(i)\n",
    "    return(l)\n",
    "        "
   ]
  },
  {
   "cell_type": "code",
   "execution_count": 14,
   "id": "dd5d9758",
   "metadata": {},
   "outputs": [
    {
     "data": {
      "text/plain": [
       "['a', 1, 2, 1, 2]"
      ]
     },
     "execution_count": 14,
     "metadata": {},
     "output_type": "execute_result"
    }
   ],
   "source": [
    "test([\"a\",1,2],[1,2])"
   ]
  },
  {
   "cell_type": "code",
   "execution_count": 9,
   "id": "635884de",
   "metadata": {},
   "outputs": [],
   "source": [
    "def test(*args):\n",
    "    l = []\n",
    "    for i in args:\n",
    "        l = l + i\n",
    "    return(l)"
   ]
  },
  {
   "cell_type": "code",
   "execution_count": 36,
   "id": "8e42c63b",
   "metadata": {},
   "outputs": [],
   "source": [
    "def one(*args):\n",
    "    a = []\n",
    "    b = []\n",
    "    c = []\n",
    "    d = []\n",
    "    e = []\n",
    "    f = []\n",
    "    g = []\n",
    "    other = []\n",
    "    for i in args:\n",
    "        if type(i) == str:\n",
    "            a.append(i)\n",
    "        elif type(i) == int:\n",
    "            b.append(i)\n",
    "        elif type(i) == complex:\n",
    "            c.append(i)\n",
    "        elif type(i) == list:\n",
    "            d.append(i)\n",
    "        elif type(i) == float:\n",
    "            e.append(i)\n",
    "        elif type(i) == dict:\n",
    "            f.append(i)\n",
    "        elif type(i) == bool:\n",
    "            g.append(i)\n",
    "        else :\n",
    "            other.append(i)\n",
    "    return a,b,c,d,e,f,g,other\n",
    "            \n",
    "            "
   ]
  },
  {
   "cell_type": "code",
   "execution_count": 37,
   "id": "5c050d32",
   "metadata": {},
   "outputs": [
    {
     "data": {
      "text/plain": [
       "(['a'],\n",
       " [1],\n",
       " [2j],\n",
       " [[1, 2], [4, 5, 6, 7]],\n",
       " [12.34],\n",
       " [{1: 1, 2: 2, 3: 3}],\n",
       " [True],\n",
       " [])"
      ]
     },
     "execution_count": 37,
     "metadata": {},
     "output_type": "execute_result"
    }
   ],
   "source": [
    "one(\"a\",1,2j,[1,2], 12.34, {1:1,2:2,3:3}, True,[4,5,6,7])"
   ]
  },
  {
   "cell_type": "code",
   "execution_count": 91,
   "id": "90d287ed",
   "metadata": {},
   "outputs": [],
   "source": [
    "def two(*args,**kwargs):\n",
    "    l = []\n",
    "    kl =[]\n",
    "    for i in args:\n",
    "        if type(i) == list:\n",
    "            l.append(i)\n",
    "    for i in kwargs:\n",
    "        kwargs.values(i)\n",
    "        kl.append(i)\n",
    "    return l,kl\n",
    "\n",
    "  "
   ]
  },
  {
   "cell_type": "code",
   "execution_count": 92,
   "id": "c7392327",
   "metadata": {},
   "outputs": [
    {
     "ename": "TypeError",
     "evalue": "dict.values() takes no arguments (1 given)",
     "output_type": "error",
     "traceback": [
      "\u001b[1;31m---------------------------------------------------------------------------\u001b[0m",
      "\u001b[1;31mTypeError\u001b[0m                                 Traceback (most recent call last)",
      "\u001b[1;32m~\\AppData\\Local\\Temp/ipykernel_2400/2455403803.py\u001b[0m in \u001b[0;36m<module>\u001b[1;34m\u001b[0m\n\u001b[1;32m----> 1\u001b[1;33m \u001b[0mtwo\u001b[0m\u001b[1;33m(\u001b[0m\u001b[1;34m\"a\"\u001b[0m\u001b[1;33m,\u001b[0m\u001b[1;36m1\u001b[0m\u001b[1;33m,\u001b[0m\u001b[1;36m2j\u001b[0m\u001b[1;33m,\u001b[0m\u001b[1;33m[\u001b[0m\u001b[1;36m1\u001b[0m\u001b[1;33m,\u001b[0m\u001b[1;36m2\u001b[0m\u001b[1;33m]\u001b[0m\u001b[1;33m,\u001b[0m \u001b[1;36m12.34\u001b[0m\u001b[1;33m,\u001b[0m \u001b[1;33m{\u001b[0m\u001b[1;36m1\u001b[0m\u001b[1;33m:\u001b[0m\u001b[1;36m1\u001b[0m\u001b[1;33m,\u001b[0m\u001b[1;36m2\u001b[0m\u001b[1;33m:\u001b[0m\u001b[1;36m2\u001b[0m\u001b[1;33m,\u001b[0m\u001b[1;36m3\u001b[0m\u001b[1;33m:\u001b[0m\u001b[1;36m3\u001b[0m\u001b[1;33m}\u001b[0m\u001b[1;33m,\u001b[0m \u001b[1;32mTrue\u001b[0m\u001b[1;33m,\u001b[0m\u001b[1;33m[\u001b[0m\u001b[1;36m4\u001b[0m\u001b[1;33m,\u001b[0m\u001b[1;36m5\u001b[0m\u001b[1;33m,\u001b[0m\u001b[1;36m6\u001b[0m\u001b[1;33m,\u001b[0m\u001b[1;36m7\u001b[0m\u001b[1;33m]\u001b[0m\u001b[1;33m,\u001b[0m \u001b[0mb\u001b[0m\u001b[1;33m=\u001b[0m\u001b[1;36m1\u001b[0m\u001b[1;33m,\u001b[0m\u001b[0mc\u001b[0m \u001b[1;33m=\u001b[0m \u001b[1;34m\"nsidfniu\"\u001b[0m\u001b[1;33m)\u001b[0m\u001b[1;33m\u001b[0m\u001b[1;33m\u001b[0m\u001b[0m\n\u001b[0m",
      "\u001b[1;32m~\\AppData\\Local\\Temp/ipykernel_2400/2675153882.py\u001b[0m in \u001b[0;36mtwo\u001b[1;34m(*args, **kwargs)\u001b[0m\n\u001b[0;32m      6\u001b[0m             \u001b[0ml\u001b[0m\u001b[1;33m.\u001b[0m\u001b[0mappend\u001b[0m\u001b[1;33m(\u001b[0m\u001b[0mi\u001b[0m\u001b[1;33m)\u001b[0m\u001b[1;33m\u001b[0m\u001b[1;33m\u001b[0m\u001b[0m\n\u001b[0;32m      7\u001b[0m     \u001b[1;32mfor\u001b[0m \u001b[0mi\u001b[0m \u001b[1;32min\u001b[0m \u001b[0mkwargs\u001b[0m\u001b[1;33m:\u001b[0m\u001b[1;33m\u001b[0m\u001b[1;33m\u001b[0m\u001b[0m\n\u001b[1;32m----> 8\u001b[1;33m         \u001b[0mkwargs\u001b[0m\u001b[1;33m.\u001b[0m\u001b[0mvalues\u001b[0m\u001b[1;33m(\u001b[0m\u001b[0mi\u001b[0m\u001b[1;33m)\u001b[0m\u001b[1;33m\u001b[0m\u001b[1;33m\u001b[0m\u001b[0m\n\u001b[0m\u001b[0;32m      9\u001b[0m         \u001b[0mkl\u001b[0m\u001b[1;33m.\u001b[0m\u001b[0mappend\u001b[0m\u001b[1;33m(\u001b[0m\u001b[0mi\u001b[0m\u001b[1;33m)\u001b[0m\u001b[1;33m\u001b[0m\u001b[1;33m\u001b[0m\u001b[0m\n\u001b[0;32m     10\u001b[0m     \u001b[1;32mreturn\u001b[0m \u001b[0ml\u001b[0m\u001b[1;33m,\u001b[0m\u001b[0mkl\u001b[0m\u001b[1;33m\u001b[0m\u001b[1;33m\u001b[0m\u001b[0m\n",
      "\u001b[1;31mTypeError\u001b[0m: dict.values() takes no arguments (1 given)"
     ]
    }
   ],
   "source": [
    "two(\"a\",1,2j,[1,2], 12.34, {1:1,2:2,3:3}, True,[4,5,6,7], b=1,c = \"nsidfniu\")"
   ]
  },
  {
   "cell_type": "code",
   "execution_count": 53,
   "id": "a21919c8",
   "metadata": {},
   "outputs": [],
   "source": [
    "def kw(**kwargs):\n",
    "    for i in kwargs:\n",
    "        print(i)\n"
   ]
  },
  {
   "cell_type": "code",
   "execution_count": 54,
   "id": "7366f89e",
   "metadata": {},
   "outputs": [
    {
     "name": "stdout",
     "output_type": "stream",
     "text": [
      "a\n",
      "b\n"
     ]
    }
   ],
   "source": [
    "kw(a=1,b=2)"
   ]
  },
  {
   "cell_type": "code",
   "execution_count": 78,
   "id": "a1559a5f",
   "metadata": {},
   "outputs": [],
   "source": [
    "def func(*args):\n",
    "    dt = {}\n",
    "    for i in args:\n",
    "        if type(i) in dt:\n",
    "            dt[type(i)].append(i)\n",
    "        else:\n",
    "            dt[type(i)] = [i]\n",
    "    return dt\n",
    "            "
   ]
  },
  {
   "cell_type": "code",
   "execution_count": 80,
   "id": "0391bdd5",
   "metadata": {},
   "outputs": [
    {
     "data": {
      "text/plain": [
       "{str: ['a'],\n",
       " int: [1],\n",
       " complex: [2j],\n",
       " list: [[1, 2], [4, 5, 6, 7]],\n",
       " float: [12.34],\n",
       " dict: [{1: 1, 2: 2, 3: 3}],\n",
       " bool: [True, False]}"
      ]
     },
     "execution_count": 80,
     "metadata": {},
     "output_type": "execute_result"
    }
   ],
   "source": [
    "func(\"a\",1,2j,[1,2], 12.34, {1:1,2:2,3:3}, True,False,[4,5,6,7])"
   ]
  },
  {
   "cell_type": "code",
   "execution_count": 93,
   "id": "cbf09feb",
   "metadata": {},
   "outputs": [],
   "source": [
    "a = lambda x,y : x+y"
   ]
  },
  {
   "cell_type": "code",
   "execution_count": 95,
   "id": "fc5514e8",
   "metadata": {},
   "outputs": [
    {
     "data": {
      "text/plain": [
       "16"
      ]
     },
     "execution_count": 95,
     "metadata": {},
     "output_type": "execute_result"
    }
   ],
   "source": [
    "a(9,7)"
   ]
  },
  {
   "cell_type": "code",
   "execution_count": 96,
   "id": "2a2aebb0",
   "metadata": {},
   "outputs": [
    {
     "data": {
      "text/plain": [
       "'kunalanad@gjnds.com'"
      ]
     },
     "execution_count": 96,
     "metadata": {},
     "output_type": "execute_result"
    }
   ],
   "source": [
    "a(\"kunal\",\"anad@gjnds.com\")"
   ]
  },
  {
   "cell_type": "code",
   "execution_count": 97,
   "id": "2f9212de",
   "metadata": {},
   "outputs": [],
   "source": [
    "n = lambda arg1,arg2 : print(arg1,arg2)"
   ]
  },
  {
   "cell_type": "code",
   "execution_count": 99,
   "id": "a1e69b1e",
   "metadata": {},
   "outputs": [
    {
     "name": "stdout",
     "output_type": "stream",
     "text": [
      "[654, 1554] ['chbsdh', 1566]\n"
     ]
    }
   ],
   "source": [
    "n([654,1554],[\"chbsdh\",1566])"
   ]
  },
  {
   "cell_type": "code",
   "execution_count": null,
   "id": "8d98b415",
   "metadata": {},
   "outputs": [],
   "source": []
  },
  {
   "cell_type": "code",
   "execution_count": 1,
   "id": "00bfba47",
   "metadata": {},
   "outputs": [],
   "source": [
    "import os"
   ]
  },
  {
   "cell_type": "code",
   "execution_count": 2,
   "id": "6eb927fa",
   "metadata": {},
   "outputs": [
    {
     "data": {
      "text/plain": [
       "'E:\\\\Users\\\\King\\\\Downloads\\\\Kunal Python\\\\practice'"
      ]
     },
     "execution_count": 2,
     "metadata": {},
     "output_type": "execute_result"
    }
   ],
   "source": [
    "pwd"
   ]
  },
  {
   "cell_type": "code",
   "execution_count": 21,
   "id": "fe3d749a",
   "metadata": {},
   "outputs": [
    {
     "ename": "SyntaxError",
     "evalue": "invalid syntax (Temp/ipykernel_6072/2603447168.py, line 6)",
     "output_type": "error",
     "traceback": [
      "\u001b[1;36m  File \u001b[1;32m\"E:\\Users\\King\\AppData\\Local\\Temp/ipykernel_6072/2603447168.py\"\u001b[1;36m, line \u001b[1;32m6\u001b[0m\n\u001b[1;33m    os.open(\"file(\"range(1-10)\").txt\",\"r+\")\u001b[0m\n\u001b[1;37m                   ^\u001b[0m\n\u001b[1;31mSyntaxError\u001b[0m\u001b[1;31m:\u001b[0m invalid syntax\n"
     ]
    }
   ],
   "source": [
    "pdir = \"E:\\\\Users\\\\King\\\\Downloads\\\\Kunal Python\\\\practice\" \n",
    "if \"data\" not in \"pdir\":\n",
    "    os.mkdir(\"data\")\n",
    "    os.chdir(\"data\")\n",
    "    if \"file(range(1-10).txt\" not in \"data\":\n",
    "        os.open(\"file(range(1-10)).txt\",\"r+\")\n"
   ]
  },
  {
   "cell_type": "code",
   "execution_count": 22,
   "id": "54a23114",
   "metadata": {},
   "outputs": [],
   "source": [
    "pdir = \"E:\\\\Users\\\\King\\\\Downloads\\\\Kunal Python\\\\practice\" \n",
    "if \"data\" not in \"pdir\":\n",
    "    os.mkdir(\"data\")"
   ]
  },
  {
   "cell_type": "code",
   "execution_count": 23,
   "id": "5cc64417",
   "metadata": {},
   "outputs": [
    {
     "data": {
      "text/plain": [
       "'E:\\\\Users\\\\King\\\\Downloads\\\\Kunal Python\\\\practice\\\\data\\\\data\\\\data\\\\data'"
      ]
     },
     "execution_count": 23,
     "metadata": {},
     "output_type": "execute_result"
    }
   ],
   "source": [
    "pwd"
   ]
  },
  {
   "cell_type": "code",
   "execution_count": 24,
   "id": "aefc499e",
   "metadata": {},
   "outputs": [],
   "source": [
    "os.chdir(\"E:\\\\Users\\\\King\\\\Downloads\\\\Kunal Python\\\\practice\\\\\")"
   ]
  },
  {
   "cell_type": "code",
   "execution_count": 25,
   "id": "9abb0afa",
   "metadata": {},
   "outputs": [
    {
     "data": {
      "text/plain": [
       "'E:\\\\Users\\\\King\\\\Downloads\\\\Kunal Python\\\\practice'"
      ]
     },
     "execution_count": 25,
     "metadata": {},
     "output_type": "execute_result"
    }
   ],
   "source": [
    "pwd"
   ]
  },
  {
   "cell_type": "code",
   "execution_count": 27,
   "id": "94c03dd3",
   "metadata": {},
   "outputs": [
    {
     "data": {
      "text/plain": [
       "['.ipynb_checkpoints', 'data', 'Practice.ipynb']"
      ]
     },
     "execution_count": 27,
     "metadata": {},
     "output_type": "execute_result"
    }
   ],
   "source": [
    "os.listdir()"
   ]
  },
  {
   "cell_type": "code",
   "execution_count": 33,
   "id": "14a6ae67",
   "metadata": {},
   "outputs": [],
   "source": [
    "import shutil\n",
    "shutil.rmtree(\"data/\")"
   ]
  },
  {
   "cell_type": "code",
   "execution_count": 34,
   "id": "0bf54011",
   "metadata": {},
   "outputs": [
    {
     "data": {
      "text/plain": [
       "['.ipynb_checkpoints', 'Practice.ipynb']"
      ]
     },
     "execution_count": 34,
     "metadata": {},
     "output_type": "execute_result"
    }
   ],
   "source": [
    "os.listdir()"
   ]
  },
  {
   "cell_type": "code",
   "execution_count": 35,
   "id": "b5f70bcf",
   "metadata": {},
   "outputs": [
    {
     "data": {
      "text/plain": [
       "'E:\\\\Users\\\\King\\\\Downloads\\\\Kunal Python\\\\practice'"
      ]
     },
     "execution_count": 35,
     "metadata": {},
     "output_type": "execute_result"
    }
   ],
   "source": [
    "pwd"
   ]
  },
  {
   "cell_type": "code",
   "execution_count": 44,
   "id": "799f2eca",
   "metadata": {},
   "outputs": [
    {
     "ename": "FileExistsError",
     "evalue": "[WinError 183] Cannot create a file when that file already exists: 'data'",
     "output_type": "error",
     "traceback": [
      "\u001b[1;31m---------------------------------------------------------------------------\u001b[0m",
      "\u001b[1;31mFileExistsError\u001b[0m                           Traceback (most recent call last)",
      "\u001b[1;32m~\\AppData\\Local\\Temp/ipykernel_6072/1655326537.py\u001b[0m in \u001b[0;36m<module>\u001b[1;34m\u001b[0m\n\u001b[0;32m      1\u001b[0m \u001b[0mpdir\u001b[0m \u001b[1;33m=\u001b[0m \u001b[1;34m\"E:\\\\Users\\\\King\\\\Downloads\\\\Kunal Python\\\\practice\"\u001b[0m\u001b[1;33m\u001b[0m\u001b[1;33m\u001b[0m\u001b[0m\n\u001b[0;32m      2\u001b[0m \u001b[1;32mif\u001b[0m \u001b[1;34m\"data\"\u001b[0m \u001b[1;32mnot\u001b[0m \u001b[1;32min\u001b[0m \u001b[1;34m\"pdir\"\u001b[0m\u001b[1;33m:\u001b[0m\u001b[1;33m\u001b[0m\u001b[1;33m\u001b[0m\u001b[0m\n\u001b[1;32m----> 3\u001b[1;33m     \u001b[0mos\u001b[0m\u001b[1;33m.\u001b[0m\u001b[0mmkdir\u001b[0m\u001b[1;33m(\u001b[0m\u001b[1;34m\"data\"\u001b[0m\u001b[1;33m)\u001b[0m\u001b[1;33m\u001b[0m\u001b[1;33m\u001b[0m\u001b[0m\n\u001b[0m\u001b[0;32m      4\u001b[0m     \u001b[0mos\u001b[0m\u001b[1;33m.\u001b[0m\u001b[0mchdir\u001b[0m\u001b[1;33m(\u001b[0m\u001b[1;34m\"data/\"\u001b[0m\u001b[1;33m)\u001b[0m\u001b[1;33m\u001b[0m\u001b[1;33m\u001b[0m\u001b[0m\n\u001b[0;32m      5\u001b[0m \u001b[1;33m\u001b[0m\u001b[0m\n",
      "\u001b[1;31mFileExistsError\u001b[0m: [WinError 183] Cannot create a file when that file already exists: 'data'"
     ]
    }
   ],
   "source": [
    "l = []\n",
    "for i in range(1,11):\n",
    "    l.append(\"file\"+\"{}\".format(i)+\".txt\")\n",
    "\n",
    "pdir = \"E:\\\\Users\\\\King\\\\Downloads\\\\Kunal Python\\\\practice\" \n",
    "if \"data\" not in \"pdir\":\n",
    "    os.mkdir(\"data\")\n",
    "    os.chdir(\"data/\")\n",
    "\n",
    "    "
   ]
  },
  {
   "cell_type": "code",
   "execution_count": 47,
   "id": "c4556705",
   "metadata": {},
   "outputs": [],
   "source": [
    "shutil.rmtree(\"data/\")"
   ]
  },
  {
   "cell_type": "code",
   "execution_count": 48,
   "id": "d0b3f621",
   "metadata": {},
   "outputs": [
    {
     "data": {
      "text/plain": [
       "'E:\\\\Users\\\\King\\\\Downloads\\\\Kunal Python\\\\practice\\\\data'"
      ]
     },
     "execution_count": 48,
     "metadata": {},
     "output_type": "execute_result"
    }
   ],
   "source": [
    "pwd"
   ]
  },
  {
   "cell_type": "code",
   "execution_count": 49,
   "id": "65565163",
   "metadata": {},
   "outputs": [
    {
     "data": {
      "text/plain": [
       "[]"
      ]
     },
     "execution_count": 49,
     "metadata": {},
     "output_type": "execute_result"
    }
   ],
   "source": [
    "os.listdir()"
   ]
  },
  {
   "cell_type": "code",
   "execution_count": 98,
   "id": "75d2fd77",
   "metadata": {},
   "outputs": [],
   "source": [
    "for i in l:\n",
    "    f = open(i,\"w\")\n",
    "    f.write(\"I am kunal\")\n",
    "    f.close()"
   ]
  },
  {
   "cell_type": "code",
   "execution_count": 96,
   "id": "7bf640ad",
   "metadata": {},
   "outputs": [
    {
     "name": "stdout",
     "output_type": "stream",
     "text": [
      "file1.txt\n",
      "file2.txt\n",
      "file3.txt\n",
      "file4.txt\n",
      "file5.txt\n",
      "file6.txt\n",
      "file7.txt\n",
      "file8.txt\n",
      "file9.txt\n",
      "file10.txt\n"
     ]
    }
   ],
   "source": [
    "for i in l:\n",
    "    print(i)"
   ]
  },
  {
   "cell_type": "code",
   "execution_count": 82,
   "id": "5aef662a",
   "metadata": {},
   "outputs": [
    {
     "data": {
      "text/plain": [
       "['file1.txt',\n",
       " 'file2.txt',\n",
       " 'file3.txt',\n",
       " 'file4.txt',\n",
       " 'file5.txt',\n",
       " 'file6.txt',\n",
       " 'file7.txt',\n",
       " 'file8.txt',\n",
       " 'file9.txt',\n",
       " 'file10.txt']"
      ]
     },
     "execution_count": 82,
     "metadata": {},
     "output_type": "execute_result"
    }
   ],
   "source": [
    "l = []\n",
    "for i in range(1,11):\n",
    "    l.append(\"file\"+\"{}\".format(i)+\".txt\")\n",
    "l"
   ]
  },
  {
   "cell_type": "code",
   "execution_count": 84,
   "id": "00300580",
   "metadata": {},
   "outputs": [
    {
     "data": {
      "text/plain": [
       "str"
      ]
     },
     "execution_count": 84,
     "metadata": {},
     "output_type": "execute_result"
    }
   ],
   "source": [
    "type(l[0])"
   ]
  },
  {
   "cell_type": "code",
   "execution_count": null,
   "id": "256608c9",
   "metadata": {},
   "outputs": [],
   "source": []
  }
 ],
 "metadata": {
  "kernelspec": {
   "display_name": "Python 3 (ipykernel)",
   "language": "python",
   "name": "python3"
  },
  "language_info": {
   "codemirror_mode": {
    "name": "ipython",
    "version": 3
   },
   "file_extension": ".py",
   "mimetype": "text/x-python",
   "name": "python",
   "nbconvert_exporter": "python",
   "pygments_lexer": "ipython3",
   "version": "3.9.7"
  }
 },
 "nbformat": 4,
 "nbformat_minor": 5
}
